{
  "nbformat": 4,
  "nbformat_minor": 0,
  "metadata": {
    "colab": {
      "name": "Spatial Data Viz in Python.ipynb",
      "provenance": [],
      "collapsed_sections": []
    },
    "kernelspec": {
      "name": "python3",
      "display_name": "Python 3"
    },
    "language_info": {
      "name": "python"
    }
  },
  "cells": [
    {
      "cell_type": "code",
      "metadata": {
        "id": "34tfO_mKzq8j"
      },
      "source": [
        "print(\"hello!\")"
      ],
      "execution_count": null,
      "outputs": []
    },
    {
      "cell_type": "code",
      "metadata": {
        "id": "g1ZoezBy1GCk"
      },
      "source": [
        "x = 25\n",
        "y = \"some text\""
      ],
      "execution_count": null,
      "outputs": []
    },
    {
      "cell_type": "code",
      "metadata": {
        "id": "LBREMcIt1OF5"
      },
      "source": [
        "type(x)"
      ],
      "execution_count": null,
      "outputs": []
    },
    {
      "cell_type": "code",
      "metadata": {
        "id": "UrBLbHCe1O9C"
      },
      "source": [
        "type(y)"
      ],
      "execution_count": null,
      "outputs": []
    },
    {
      "cell_type": "code",
      "metadata": {
        "id": "XGtBVNhf1P1p"
      },
      "source": [
        "z = 3.14\n",
        "type(z)"
      ],
      "execution_count": null,
      "outputs": []
    },
    {
      "cell_type": "code",
      "metadata": {
        "id": "LaCqoYsW1Y0A"
      },
      "source": [
        "a = x + z\n",
        "a\n",
        "x**2"
      ],
      "execution_count": null,
      "outputs": []
    },
    {
      "cell_type": "code",
      "metadata": {
        "id": "tgrdsgBe1b8T"
      },
      "source": [
        "ourlist = [\"apples\", \"bananas\", \"oranges\"]"
      ],
      "execution_count": null,
      "outputs": []
    },
    {
      "cell_type": "code",
      "metadata": {
        "id": "hl4rZayG1zj-"
      },
      "source": [
        "ourlist[1]"
      ],
      "execution_count": null,
      "outputs": []
    },
    {
      "cell_type": "code",
      "metadata": {
        "id": "4yDKHBgx12NG"
      },
      "source": [
        "newlist =[1,2,3]"
      ],
      "execution_count": null,
      "outputs": []
    },
    {
      "cell_type": "code",
      "metadata": {
        "id": "TLUamlHa17dm"
      },
      "source": [
        "newlist[2]"
      ],
      "execution_count": null,
      "outputs": []
    },
    {
      "cell_type": "code",
      "metadata": {
        "id": "0BBf9Yjn187E"
      },
      "source": [
        "for i in newlist:\n",
        "  print (i==2)"
      ],
      "execution_count": null,
      "outputs": []
    },
    {
      "cell_type": "code",
      "metadata": {
        "id": "LFufZbzO1-9_"
      },
      "source": [
        "import numpy as np\n",
        "newnp = np.array([1,2,3])"
      ],
      "execution_count": null,
      "outputs": []
    },
    {
      "cell_type": "code",
      "metadata": {
        "id": "2cwSeerO2ife"
      },
      "source": [
        "newnp >= 2"
      ],
      "execution_count": null,
      "outputs": []
    },
    {
      "cell_type": "code",
      "metadata": {
        "id": "mgda3mZt2jnX"
      },
      "source": [
        "newnp[newnp>=2]"
      ],
      "execution_count": null,
      "outputs": []
    },
    {
      "cell_type": "code",
      "metadata": {
        "id": "qUaiiRdO2-V0"
      },
      "source": [
        "%%capture\n",
        "!apt install gdal-bin python-gdal python3-gdal #geopython libraries dependency\n",
        "!apt install python3-rtree #geopandas dependency\n",
        "!pip install git+git://github.com/geopandas/geopandas.git #get geopandas from github.com\n",
        "!pip install geoplot #install geoplot."
      ],
      "execution_count": null,
      "outputs": []
    },
    {
      "cell_type": "code",
      "metadata": {
        "id": "SjqFuO2n3wPE"
      },
      "source": [
        "import pandas as pd\n",
        "import geopandas as gpd\n",
        "import matplotlib.pyplot as plt \n",
        "import contextily as ctx #for basemap (background for our maps)\n",
        "import folium #for interactive map"
      ],
      "execution_count": null,
      "outputs": []
    },
    {
      "cell_type": "code",
      "metadata": {
        "id": "_aTah4Ml6Tv9"
      },
      "source": [
        "nyc_tracts = gpd.read_file(\"/content/drive/MyDrive/Spatial in Python Workshop Data (1)/NYC Tract Shapefile/NYC_censustracts.shp\")"
      ],
      "execution_count": null,
      "outputs": []
    },
    {
      "cell_type": "code",
      "metadata": {
        "id": "DyqmfknD3vGb"
      },
      "source": [
        "##load in other shapefiles\n",
        "starbucks = gpd.read_file(\"/content/drive/MyDrive/Spatial in Python Workshop Data (1)/Starbucks/Starbucks.shp\")"
      ],
      "execution_count": null,
      "outputs": []
    },
    {
      "cell_type": "code",
      "metadata": {
        "id": "QQHZ8VWz8gem"
      },
      "source": [
        "sidewalks = gpd.read_file(\"/content/drive/MyDrive/Spatial in Python Workshop Data (1)/Sidewalks/SidewalkLines.shp\")"
      ],
      "execution_count": null,
      "outputs": []
    },
    {
      "cell_type": "code",
      "metadata": {
        "id": "GsBjNeQ48mOB"
      },
      "source": [
        "nyc_tracts.head()"
      ],
      "execution_count": null,
      "outputs": []
    },
    {
      "cell_type": "code",
      "metadata": {
        "id": "XzlQ1XZu8qVl"
      },
      "source": [
        "nyc_tracts.GEOID"
      ],
      "execution_count": null,
      "outputs": []
    },
    {
      "cell_type": "code",
      "metadata": {
        "id": "uPQAsASh8sfS"
      },
      "source": [
        "nyc_tracts[['GEOID', 'NAME']]"
      ],
      "execution_count": null,
      "outputs": []
    },
    {
      "cell_type": "code",
      "metadata": {
        "id": "EsdhPgBS8vQc"
      },
      "source": [
        "nyc_tracts.columns"
      ],
      "execution_count": null,
      "outputs": []
    },
    {
      "cell_type": "code",
      "metadata": {
        "id": "Z-2dhyyU80sc"
      },
      "source": [
        "nyc_tracts.loc[[2,3,4],'GEOID']"
      ],
      "execution_count": null,
      "outputs": []
    },
    {
      "cell_type": "code",
      "metadata": {
        "id": "pl9SQdKy864b"
      },
      "source": [
        "nyc_tracts.plot()"
      ],
      "execution_count": null,
      "outputs": []
    },
    {
      "cell_type": "code",
      "metadata": {
        "id": "IgFLcSSe8_LU"
      },
      "source": [
        "starbucks.plot(color='pink', markersize=3)"
      ],
      "execution_count": null,
      "outputs": []
    },
    {
      "cell_type": "code",
      "metadata": {
        "id": "SYbXdr7C9BRU"
      },
      "source": [
        "sidewalks.plot()"
      ],
      "execution_count": null,
      "outputs": []
    },
    {
      "cell_type": "code",
      "metadata": {
        "id": "P9tfITUX9Crz"
      },
      "source": [
        "nyc_tracts.geometry"
      ],
      "execution_count": null,
      "outputs": []
    },
    {
      "cell_type": "code",
      "metadata": {
        "id": "UXRBeJ9m9UMu"
      },
      "source": [
        "ax = starbucks.plot(color='pink', markersize=3)\n",
        "ax.set_xlim([-74.02, -73.94])\n",
        "ax.set_ylim([40.68,40.78]) "
      ],
      "execution_count": null,
      "outputs": []
    },
    {
      "cell_type": "code",
      "metadata": {
        "id": "tprmccGR9ey3"
      },
      "source": [
        "ax = sidewalks.plot()\n",
        "ax.set_xlim([-74.02, -73.94])\n",
        "ax.set_ylim([40.68,40.78]) "
      ],
      "execution_count": null,
      "outputs": []
    },
    {
      "cell_type": "code",
      "metadata": {
        "id": "JuhK_8qi9q2S"
      },
      "source": [
        "ax = nyc_tracts.plot()\n",
        "starbucks.plot(ax=ax, color=\"pink\")\n",
        "ax.set_xlim([-74.02, -73.94])\n",
        "ax.set_ylim([40.68,40.78]) "
      ],
      "execution_count": null,
      "outputs": []
    },
    {
      "cell_type": "code",
      "metadata": {
        "id": "Sv-Wz4Wy-OuS"
      },
      "source": [
        "nyc_tracts.crs"
      ],
      "execution_count": null,
      "outputs": []
    },
    {
      "cell_type": "code",
      "metadata": {
        "id": "aeuJAkt99_JN"
      },
      "source": [
        "ax = nyc_tracts.plot()\n",
        "ctx.add_basemap(ax,\n",
        "                source=ctx.providers.CartoDB.Positron,\n",
        "                crs=4326)"
      ],
      "execution_count": null,
      "outputs": []
    },
    {
      "cell_type": "code",
      "metadata": {
        "id": "Sck6GWho-Jol"
      },
      "source": [
        "#create width\n",
        "sidewalks['width']=sidewalks['shape_area']/sidewalks['shape_leng']"
      ],
      "execution_count": null,
      "outputs": []
    },
    {
      "cell_type": "code",
      "metadata": {
        "id": "fy3VQz7Q-bA0"
      },
      "source": [
        "sidewalks.shape_area=sidewalks.shape_area.astype('float')\n",
        "#convert length as well\n",
        "sidewalks.shape_leng=sidewalks.shape_leng.astype('float')"
      ],
      "execution_count": null,
      "outputs": []
    },
    {
      "cell_type": "code",
      "metadata": {
        "id": "uHfWkjKd-VIJ"
      },
      "source": [
        "sidewalks['width']=sidewalks['shape_area']/sidewalks['shape_leng']"
      ],
      "execution_count": null,
      "outputs": []
    },
    {
      "cell_type": "code",
      "metadata": {
        "id": "OWjXCvXD-d6U"
      },
      "source": [
        "ax = sidewalks.plot('width', scheme=\"quantiles\", legend=True, figsize = (15,15))\n",
        "\n",
        "#ax = sidewalks.plot(figsize = (15,15), scheme = 'percentiles',column = 'width', legend = True)\n",
        "#ax.set_title(\"Sidewalk Width\")\n",
        "#ax.set_axis_off()\n",
        "\n",
        "ax.set_xlim([-74.02, -73.94])\n",
        "ax.set_ylim([40.68,40.78]) "
      ],
      "execution_count": null,
      "outputs": []
    },
    {
      "cell_type": "code",
      "metadata": {
        "id": "gcjv1F0F-pcm"
      },
      "source": [
        "sidewalks['width'].mean()"
      ],
      "execution_count": null,
      "outputs": []
    },
    {
      "cell_type": "code",
      "metadata": {
        "id": "d0aqfHop-wQF"
      },
      "source": [
        "ax = nyc_tracts.plot('COUNTYFP', legend=True, figsize = (15,15))\n"
      ],
      "execution_count": null,
      "outputs": []
    },
    {
      "cell_type": "code",
      "metadata": {
        "id": "Sb00M24S-_RP"
      },
      "source": [
        "queens_tracts = nyc_tracts[nyc_tracts['COUNTYFP']=='081']"
      ],
      "execution_count": null,
      "outputs": []
    },
    {
      "cell_type": "code",
      "metadata": {
        "id": "shyu3vRm_KHU"
      },
      "source": [
        "queens_tracts.plot()"
      ],
      "execution_count": null,
      "outputs": []
    },
    {
      "cell_type": "code",
      "metadata": {
        "id": "pFUd3Zwq_QOY"
      },
      "source": [
        "map= folium.Map()\n",
        "map"
      ],
      "execution_count": null,
      "outputs": []
    },
    {
      "cell_type": "code",
      "metadata": {
        "id": "GxCGjhCHTlGC"
      },
      "source": [
        "map= folium.Map(width=600, height=400)\n",
        "map"
      ],
      "execution_count": null,
      "outputs": []
    },
    {
      "cell_type": "code",
      "metadata": {
        "id": "O3hNee0kTVQW"
      },
      "source": [
        "map= folium.Map(width=600, height=400, location=[40.7,-74], tiles=\"Stamen Toner\")\n",
        "map"
      ],
      "execution_count": null,
      "outputs": []
    },
    {
      "cell_type": "code",
      "metadata": {
        "id": "9o6b-3AvTwIP"
      },
      "source": [
        "map= folium.Map(width=600, height=400, location=[40.7,-74])\n",
        "folium.Marker([40.81, -73.96355], popup='<b>This is where we are!</b>', tooltip=\"Barnard College\").add_to(map)\n",
        "map"
      ],
      "execution_count": null,
      "outputs": []
    },
    {
      "cell_type": "code",
      "metadata": {
        "id": "8cpkhanbop5N"
      },
      "source": [
        "map= folium.Map(width=600, height=400, location=[40.7,-74])\n",
        "folium.GeoJson(data=nyc_tracts[\"geometry\"]).add_to(map)\n",
        "folium.Choropleth(\n",
        "    geo_data = nyc_tracts,                  #json\n",
        "    name ='choropleth',                  \n",
        "    data = nyc_tracts,                     \n",
        "    columns = ['GEOID','ALAND'], #columns to work on\n",
        "    key_on ='feature.properties.GEOID',\n",
        "    fill_color ='YlGnBu',     #I passed colors Yellow,Green,Blue\n",
        "    fill_opacity = 0.7,\n",
        "    line_opacity = 0.2,\n",
        "   legend_name = \"Boro\"\n",
        ").add_to(map)\n",
        "map"
      ],
      "execution_count": null,
      "outputs": []
    },
    {
      "cell_type": "code",
      "metadata": {
        "id": "bVcqDEk-__lw"
      },
      "source": [
        "nyc_data = pd.read_csv(\"/content/drive/MyDrive/Spatial in Python Workshop Data (1)/R12854609_SL140.csv\")"
      ],
      "execution_count": null,
      "outputs": []
    },
    {
      "cell_type": "code",
      "metadata": {
        "id": "96EvDRmHAI9p"
      },
      "source": [
        "nyc_data.head()"
      ],
      "execution_count": null,
      "outputs": []
    },
    {
      "cell_type": "code",
      "metadata": {
        "id": "e2FePJgCAOzE"
      },
      "source": [
        "nyc_tracts.head()"
      ],
      "execution_count": null,
      "outputs": []
    },
    {
      "cell_type": "code",
      "metadata": {
        "id": "LUJ9NCVNAPh-"
      },
      "source": [
        "nyc_tracts.merge(nyc_data, on=\"GEOID\")"
      ],
      "execution_count": null,
      "outputs": []
    },
    {
      "cell_type": "code",
      "metadata": {
        "id": "uyLxS0Z-ASKJ"
      },
      "source": [
        "type(nyc_tracts.GEOID)"
      ],
      "execution_count": null,
      "outputs": []
    },
    {
      "cell_type": "code",
      "metadata": {
        "id": "8UEu8QWUASq8"
      },
      "source": [
        "type(nyc_tracts.GEOID[1])"
      ],
      "execution_count": null,
      "outputs": []
    },
    {
      "cell_type": "code",
      "metadata": {
        "id": "-1T2I-VXAU56"
      },
      "source": [
        "type(nyc_data.GEOID[1])"
      ],
      "execution_count": null,
      "outputs": []
    },
    {
      "cell_type": "code",
      "metadata": {
        "id": "PMtpI-y2Aa2N"
      },
      "source": [
        "nyc_data.GEOID = nyc_data.GEOID.astype(str)"
      ],
      "execution_count": null,
      "outputs": []
    },
    {
      "cell_type": "code",
      "metadata": {
        "id": "Xg7TVijwAdAr"
      },
      "source": [
        "nyc_tracts.merge(nyc_data, on=\"GEOID\")"
      ],
      "execution_count": null,
      "outputs": []
    },
    {
      "cell_type": "code",
      "metadata": {
        "id": "jsLOQBE_AgK4"
      },
      "source": [
        "nyc_tracts['AsianPop'] = 100*nyc_tracts['SE_A03001_005']/nyc_tracts['SE_A03001_001']"
      ],
      "execution_count": null,
      "outputs": []
    },
    {
      "cell_type": "code",
      "metadata": {
        "id": "rqidnw9FA1T3"
      },
      "source": [
        "#Create Black Population variable"
      ],
      "execution_count": null,
      "outputs": []
    },
    {
      "cell_type": "code",
      "metadata": {
        "id": "VV5u2u89AlQj"
      },
      "source": [
        "#for col in ['SE_A03001_002','SE_A03001_003','SE_A03001_004','SE_A03001_005','SE_A03001_006','SE_A03001_007','SE_A03001_008']:\n",
        "  #tracts[col] = 100*tracts[col]/tracts.SE_A03001_001"
      ],
      "execution_count": null,
      "outputs": []
    },
    {
      "cell_type": "code",
      "metadata": {
        "id": "V6jn_NlgAmwP"
      },
      "source": [
        "ax=nyc_tracts.plot(column=\"AsianPop\")"
      ],
      "execution_count": null,
      "outputs": []
    },
    {
      "cell_type": "code",
      "metadata": {
        "id": "3f_IwIHWAqcq"
      },
      "source": [
        "ax=nyc_tracts.plot(column='SE_A03001_005', legend=True, cmap=\"Greens\", figsize=(10,10),edgecolor = \"grey\", linewidth=0.1)\n",
        "ax.set_axis_off()\n",
        "ax.set_title(\"Asian Population, 2019\")"
      ],
      "execution_count": null,
      "outputs": []
    },
    {
      "cell_type": "code",
      "metadata": {
        "id": "cKx1cixpAsd8"
      },
      "source": [
        "starbucksnyc = gpd.overlay(starbucks, nyc_tracts, how = \"intersection\")"
      ],
      "execution_count": null,
      "outputs": []
    },
    {
      "cell_type": "code",
      "metadata": {
        "id": "tP2ImWo-AnL_"
      },
      "source": [
        "ax=nyc_tracts.plot(column='SE_A03001_003', legend=True, cmap=\"Purples\", figsize=(20,20),edgecolor = \"grey\", linewidth=0.1, scheme=\"quantiles\")\n",
        "starbucksnyc.plot(ax=ax, color='orange', markersize=15)\n",
        "ax.set_axis_off()\n",
        "ax.set_title(\"Asian Population, 2019\")"
      ],
      "execution_count": null,
      "outputs": []
    },
    {
      "cell_type": "code",
      "metadata": {
        "id": "Xmfx09e3BETK"
      },
      "source": [
        ""
      ],
      "execution_count": null,
      "outputs": []
    },
    {
      "cell_type": "code",
      "metadata": {
        "id": "auAHVtrTLjJU"
      },
      "source": [
        "starbucksnyc_albers = starbucksnyc.to_crs(epsg = 3627)"
      ],
      "execution_count": null,
      "outputs": []
    },
    {
      "cell_type": "code",
      "metadata": {
        "id": "82MzhQqvMf-t"
      },
      "source": [
        "starbucksnyc_albers_buffers = starbucksnyc_albers"
      ],
      "execution_count": null,
      "outputs": []
    },
    {
      "cell_type": "code",
      "metadata": {
        "id": "TWQkC93UL8pW"
      },
      "source": [
        "starbucksnyc_albers_buffers.geometry = starbucksnyc_albers.buffer(805)\n",
        "#805 meters is 0.5 miles"
      ],
      "execution_count": null,
      "outputs": []
    },
    {
      "cell_type": "code",
      "metadata": {
        "id": "cpYrDt6RMwWp"
      },
      "source": [
        "starbucksnyc_albers_buffers.plot()"
      ],
      "execution_count": null,
      "outputs": []
    },
    {
      "cell_type": "code",
      "metadata": {
        "id": "yunNy5L0MYKX"
      },
      "source": [
        "ax=tracts.plot(column='SE_A03001_003', legend=True, cmap=\"Purples\", figsize=(20,20),edgecolor = \"grey\", linewidth=0.1, scheme=\"quantiles\")\n",
        "starbucksnyc_albers_buffers.plot(ax=ax)\n",
        "ax.set_axis_off()\n",
        "ax.set_title(\"Asian Population, 2019\")"
      ],
      "execution_count": null,
      "outputs": []
    },
    {
      "cell_type": "code",
      "metadata": {
        "id": "6cD5-bAHJV_e"
      },
      "source": [
        "tracts_albers = tracts.to_crs(epsg=3627)"
      ],
      "execution_count": null,
      "outputs": []
    },
    {
      "cell_type": "code",
      "metadata": {
        "id": "HEsGVqtsNPRm"
      },
      "source": [
        "ax=tracts_albers.plot(column='SE_A03001_003', legend=True, cmap=\"Purples\", figsize=(10,10),edgecolor = \"grey\", linewidth=0.1, scheme=\"quantiles\")\n",
        "starbucksnyc_albers_buffers.plot(ax=ax)\n",
        "ax.set_axis_off()\n",
        "ax.set_title(\"Asian Population, 2019\")"
      ],
      "execution_count": null,
      "outputs": []
    },
    {
      "cell_type": "code",
      "metadata": {
        "id": "y0VqCdhtNV16"
      },
      "source": [
        "gpd.overlay(tracts_albers, starbucksnyc_albers_buffers, how = \"difference\").plot(figsize=(10,10))"
      ],
      "execution_count": null,
      "outputs": []
    },
    {
      "cell_type": "code",
      "metadata": {
        "id": "w-w3KYTeN04a"
      },
      "source": [
        "nostarbucks = gpd.overlay(tracts_albers, starbucksnyc_albers_buffers, how = \"difference\")"
      ],
      "execution_count": null,
      "outputs": []
    },
    {
      "cell_type": "code",
      "metadata": {
        "id": "LpW0WXa-OShB"
      },
      "source": [
        "boros = nostarbucks.COUNTYFP.unique()"
      ],
      "execution_count": null,
      "outputs": []
    },
    {
      "cell_type": "code",
      "metadata": {
        "id": "EpuabO_hPKPq"
      },
      "source": [
        "nostarbucks.area"
      ],
      "execution_count": null,
      "outputs": []
    },
    {
      "cell_type": "code",
      "metadata": {
        "id": "fV1mQXGwOTg3"
      },
      "source": [
        "areas = []\n",
        "for i in boros:\n",
        "    areas.append(nostarbucks[nostarbucks['COUNTYFP'] == i].area.sum())"
      ],
      "execution_count": null,
      "outputs": []
    },
    {
      "cell_type": "code",
      "metadata": {
        "id": "PnnI5nv-Oktg"
      },
      "source": [
        "areas"
      ],
      "execution_count": null,
      "outputs": []
    },
    {
      "cell_type": "code",
      "metadata": {
        "id": "PSede-_BPUFO"
      },
      "source": [
        "totalareas = []\n",
        "for i in boros:\n",
        "    totalareas.append(tracts_albers[tracts_albers['COUNTYFP'] == i].area.sum())\n",
        "totalareas"
      ],
      "execution_count": null,
      "outputs": []
    },
    {
      "cell_type": "code",
      "metadata": {
        "id": "7PYo0-A3P8YG"
      },
      "source": [
        "import numpy as np\n",
        "np.divide(areas,totalareas)"
      ],
      "execution_count": null,
      "outputs": []
    }
  ]
}